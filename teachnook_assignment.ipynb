{
  "nbformat": 4,
  "nbformat_minor": 0,
  "metadata": {
    "colab": {
      "provenance": []
    },
    "kernelspec": {
      "name": "python3",
      "display_name": "Python 3"
    },
    "language_info": {
      "name": "python"
    }
  },
  "cells": [
    {
      "cell_type": "code",
      "execution_count": null,
      "metadata": {
        "id": "hp2gUyV-cv4L"
      },
      "outputs": [],
      "source": [
        "# Assignment 1 \n",
        "# Create a two different examples for collective datatypes in python"
      ]
    },
    {
      "cell_type": "markdown",
      "source": [
        "Set-\n",
        "A Set is an unordered collection data type that is iterable, mutable, and has no duplicate elements"
      ],
      "metadata": {
        "id": "T8K43oZjdCqZ"
      }
    },
    {
      "cell_type": "code",
      "source": [
        "Days = set([\"Monday\", \"Tuesday\", \"Wednesday\", \"Thursday\", \"Friday\", \"Saturday\", \"Sunday\"])    \n",
        "print(Days)    \n",
        "print(type(Days))    \n",
        "print(\"looping through the set elements ... \")    \n",
        "for i in Days:    \n",
        "    print(i)    "
      ],
      "metadata": {
        "colab": {
          "base_uri": "https://localhost:8080/"
        },
        "id": "RnRsIMugdFUp",
        "outputId": "c11ecfb7-293b-4a6a-e603-5855d1c49044"
      },
      "execution_count": null,
      "outputs": [
        {
          "output_type": "stream",
          "name": "stdout",
          "text": [
            "{'Wednesday', 'Thursday', 'Monday', 'Saturday', 'Sunday', 'Friday', 'Tuesday'}\n",
            "<class 'set'>\n",
            "looping through the set elements ... \n",
            "Wednesday\n",
            "Thursday\n",
            "Monday\n",
            "Saturday\n",
            "Sunday\n",
            "Friday\n",
            "Tuesday\n"
          ]
        }
      ]
    },
    {
      "cell_type": "code",
      "source": [
        "Months = set([\"January\",\"February\", \"March\", \"April\", \"May\", \"June\"])    \n",
        "print(\"\\nprinting the original set ... \")    \n",
        "print(Months)    \n",
        "print(\"\\nAdding other months to the set...\");    \n",
        "Months.add(\"July\");    \n",
        "Months.add (\"August\");    \n",
        "print(\"\\nPrinting the modified set...\");    \n",
        "print(Months)    \n",
        "print(\"\\nlooping through the set elements ... \")    \n",
        "for i in Months:    \n",
        "    print(i)    "
      ],
      "metadata": {
        "colab": {
          "base_uri": "https://localhost:8080/"
        },
        "id": "3-cCxaRIdmyx",
        "outputId": "74496797-b4fe-43b6-a3d0-30d2818b33cc"
      },
      "execution_count": null,
      "outputs": [
        {
          "output_type": "stream",
          "name": "stdout",
          "text": [
            "\n",
            "printing the original set ... \n",
            "{'March', 'April', 'June', 'February', 'January', 'May'}\n",
            "\n",
            "Adding other months to the set...\n",
            "\n",
            "Printing the modified set...\n",
            "{'March', 'April', 'July', 'June', 'August', 'February', 'January', 'May'}\n",
            "\n",
            "looping through the set elements ... \n",
            "March\n",
            "April\n",
            "July\n",
            "June\n",
            "August\n",
            "February\n",
            "January\n",
            "May\n"
          ]
        }
      ]
    },
    {
      "cell_type": "markdown",
      "source": [
        "Tuple-A tuple is a collection of objects which ordered and immutable. Tuples are sequences, just like lists"
      ],
      "metadata": {
        "id": "Y79P1UE8dyqa"
      }
    },
    {
      "cell_type": "code",
      "source": [
        "languages = ('Python', 'Swift', 'C++')\n",
        "\n",
        "\n",
        "for language in languages:\n",
        "    print(language)"
      ],
      "metadata": {
        "colab": {
          "base_uri": "https://localhost:8080/"
        },
        "id": "-29FG_Xfd8z9",
        "outputId": "9c160ef9-d266-4475-9e54-8eddf28fd91d"
      },
      "execution_count": null,
      "outputs": [
        {
          "output_type": "stream",
          "name": "stdout",
          "text": [
            "Python\n",
            "Swift\n",
            "C++\n"
          ]
        }
      ]
    },
    {
      "cell_type": "code",
      "source": [
        "\n",
        "my_tuple = ('p', 'r', 'o', 'g', 'r', 'a', 'm', 'i', 'z')\n",
        "\n",
        "print(my_tuple[1:4])  \n",
        "\n",
        "\n",
        "print(my_tuple[:-7]) \n",
        "\n",
        "\n",
        "print(my_tuple[7:]) \n",
        "\n",
        "print(my_tuple[:]) "
      ],
      "metadata": {
        "colab": {
          "base_uri": "https://localhost:8080/"
        },
        "id": "0u0Djx5IeNYw",
        "outputId": "88f641f0-70db-4d79-9e37-431222edf12b"
      },
      "execution_count": null,
      "outputs": [
        {
          "output_type": "stream",
          "name": "stdout",
          "text": [
            "('r', 'o', 'g')\n",
            "('p', 'r')\n",
            "('i', 'z')\n",
            "('p', 'r', 'o', 'g', 'r', 'a', 'm', 'i', 'z')\n"
          ]
        }
      ]
    },
    {
      "cell_type": "markdown",
      "source": [
        "List-A list in Python is used to store the sequence of various types of data. A list can be defined as a collection of values or items of different types"
      ],
      "metadata": {
        "id": "zHpj71uoeV_d"
      }
    },
    {
      "cell_type": "code",
      "source": [
        "thislist = [\"apple\", \"banana\", \"cherry\", \"apple\", \"cherry\"]\n",
        "print(thislist)"
      ],
      "metadata": {
        "colab": {
          "base_uri": "https://localhost:8080/"
        },
        "id": "29Dn6_9bef73",
        "outputId": "b47ee542-a724-4c7f-dc2c-1bff9ec8a782"
      },
      "execution_count": null,
      "outputs": [
        {
          "output_type": "stream",
          "name": "stdout",
          "text": [
            "['apple', 'banana', 'cherry', 'apple', 'cherry']\n"
          ]
        }
      ]
    },
    {
      "cell_type": "code",
      "source": [
        "\n",
        "my_list = ['p','r','o','g','r','a','m','i','z']\n",
        "\n",
        "print(my_list[2:5])\n",
        "\n",
        "print(my_list[5:])\n",
        "\n",
        "print(my_list[:])"
      ],
      "metadata": {
        "colab": {
          "base_uri": "https://localhost:8080/"
        },
        "id": "-q0u3CO8euEG",
        "outputId": "8dd81003-2d7c-436d-903b-20d51d7bb323"
      },
      "execution_count": null,
      "outputs": [
        {
          "output_type": "stream",
          "name": "stdout",
          "text": [
            "['o', 'g', 'r']\n",
            "['a', 'm', 'i', 'z']\n",
            "['p', 'r', 'o', 'g', 'r', 'a', 'm', 'i', 'z']\n"
          ]
        }
      ]
    },
    {
      "cell_type": "markdown",
      "source": [
        "Dictionary-Dictionaries are Python's implementation of a data structure that is more generally known as an associative array"
      ],
      "metadata": {
        "id": "vCpt2BsUe13B"
      }
    },
    {
      "cell_type": "code",
      "source": [
        "\n",
        "Dict = {1: 'Geeks', 2: 'For', 3: 'Geeks'}\n",
        "print(\"\\nDictionary with the use of Integer Keys: \")\n",
        "print(Dict)\n",
        "\n",
        "Dict = {'Name': 'Geeks', 1: [1, 2, 3, 4]}\n",
        "print(\"\\nDictionary with the use of Mixed Keys: \")\n",
        "print(Dict)"
      ],
      "metadata": {
        "colab": {
          "base_uri": "https://localhost:8080/"
        },
        "id": "AIlGEeL2e_iG",
        "outputId": "806863dc-0da7-40b0-f543-c231f17df0bf"
      },
      "execution_count": null,
      "outputs": [
        {
          "output_type": "stream",
          "name": "stdout",
          "text": [
            "\n",
            "Dictionary with the use of Integer Keys: \n",
            "{1: 'Geeks', 2: 'For', 3: 'Geeks'}\n",
            "\n",
            "Dictionary with the use of Mixed Keys: \n",
            "{'Name': 'Geeks', 1: [1, 2, 3, 4]}\n"
          ]
        }
      ]
    },
    {
      "cell_type": "code",
      "source": [
        "\n",
        "Dict = {}\n",
        "print(\"Empty Dictionary: \")\n",
        "print(Dict)\n",
        "\n",
        "Dict = dict({1: 'Geeks', 2: 'For', 3: 'Geeks'})\n",
        "print(\"\\nDictionary with the use of dict(): \")\n",
        "print(Dict)\n",
        "  \n",
        "Dict = dict([(1, 'Geeks'), (2, 'For')])\n",
        "print(\"\\nDictionary with each item as a pair: \")\n",
        "print(Dict)"
      ],
      "metadata": {
        "colab": {
          "base_uri": "https://localhost:8080/"
        },
        "id": "u-6ZJaNtfJP8",
        "outputId": "8cbbfa07-ae02-404a-ea2c-9bf47e383563"
      },
      "execution_count": null,
      "outputs": [
        {
          "output_type": "stream",
          "name": "stdout",
          "text": [
            "Empty Dictionary: \n",
            "{}\n",
            "\n",
            "Dictionary with the use of dict(): \n",
            "{1: 'Geeks', 2: 'For', 3: 'Geeks'}\n",
            "\n",
            "Dictionary with each item as a pair: \n",
            "{1: 'Geeks', 2: 'For'}\n"
          ]
        }
      ]
    },
    {
      "cell_type": "markdown",
      "source": [
        "# Assignment 2\n",
        "Work on r+,W+,A+"
      ],
      "metadata": {
        "id": "MaehzEOFfSKA"
      }
    },
    {
      "cell_type": "code",
      "source": [
        "with open('a.txt', 'r+') as f:\n",
        "    f.write(\"new line \\n\")  "
      ],
      "metadata": {
        "id": "RHA907wffpkj"
      },
      "execution_count": 13,
      "outputs": []
    },
    {
      "cell_type": "code",
      "source": [
        "with open('a.txt', 'r+') as f:\n",
        "    f.read()                # move file position to the end of the file.\n",
        "    f.write(\"new line \\n\")"
      ],
      "metadata": {
        "id": "1HA8PfcShaCm"
      },
      "execution_count": 15,
      "outputs": []
    },
    {
      "cell_type": "code",
      "source": [
        "with open('a.txt', 'w+') as f:   \n",
        "    f.write(\"test 1\\n\")\n",
        "    f.write(\"test 2\\n\")\n",
        "    f.write(\"test 3\\n\")  "
      ],
      "metadata": {
        "id": "dozZa84_hjc2"
      },
      "execution_count": 16,
      "outputs": []
    },
    {
      "cell_type": "code",
      "source": [
        "with open('file.txt', 'w+') as f:  \n",
        "    f.write(\"test 1\\n\")\n",
        "    f.write(\"test 2\\n\")\n",
        "    f.write(\"test 3\\n\")             \n",
        "    f.seek(0)                       \n",
        "    lines = f.read()                \n",
        "    print(lines) "
      ],
      "metadata": {
        "colab": {
          "base_uri": "https://localhost:8080/"
        },
        "id": "yUDV9xlFhmuw",
        "outputId": "ed5bc532-dd45-4928-85ee-53bb7159d41a"
      },
      "execution_count": 17,
      "outputs": [
        {
          "output_type": "stream",
          "name": "stdout",
          "text": [
            "test 1\n",
            "test 2\n",
            "test 3\n",
            "\n"
          ]
        }
      ]
    },
    {
      "cell_type": "code",
      "source": [
        "with open('a.txt', 'a') as f:\n",
        "    f.write(\"4\")"
      ],
      "metadata": {
        "id": "CZmYnkX1hzx1"
      },
      "execution_count": 18,
      "outputs": []
    },
    {
      "cell_type": "code",
      "source": [
        "with open('a.txt', 'a+') as f:\n",
        "    f.seek(0)                       # file pointer at end, move to beginning\n",
        "    lines = f.readlines()           # read all and file pointer at end again\n",
        "    f.write(\"\\n\" + str(len(lines))) # append number of lines to a file"
      ],
      "metadata": {
        "id": "EfDH0Z7yh40V"
      },
      "execution_count": 19,
      "outputs": []
    }
  ]
}